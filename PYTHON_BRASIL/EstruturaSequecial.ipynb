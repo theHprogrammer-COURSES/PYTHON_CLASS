{
 "cells": [
  {
   "cell_type": "markdown",
   "metadata": {},
   "source": [
    "##### 1. Faça um Programa que mostre a mensagem \"Alo mundo\" na tela. "
   ]
  },
  {
   "cell_type": "code",
   "execution_count": 1,
   "metadata": {},
   "outputs": [
    {
     "name": "stdout",
     "output_type": "stream",
     "text": [
      "Alo Mundo\n"
     ]
    }
   ],
   "source": [
    "print('Alo Mundo')\n"
   ]
  },
  {
   "cell_type": "markdown",
   "metadata": {},
   "source": [
    "##### 2. Faça um Programa que peça um número e então mostre a mensagem O número informado foi [número]. "
   ]
  },
  {
   "cell_type": "code",
   "execution_count": 3,
   "metadata": {},
   "outputs": [
    {
     "name": "stdout",
     "output_type": "stream",
     "text": [
      "O número informado foi 65\n"
     ]
    }
   ],
   "source": [
    "n = int(input('Informe um número: '))\n",
    "\n",
    "print(f'O número informado foi {n}')\n"
   ]
  },
  {
   "cell_type": "markdown",
   "metadata": {},
   "source": [
    "##### 3. Faça um Programa que peça dois números e imprima a soma. "
   ]
  },
  {
   "cell_type": "code",
   "execution_count": 4,
   "metadata": {},
   "outputs": [
    {
     "name": "stdout",
     "output_type": "stream",
     "text": [
      "A soma dos números 1 e 3 é 4\n"
     ]
    }
   ],
   "source": [
    "n1, n2 = map(int, input('Informe dois números: ').split())\n",
    "\n",
    "soma = n1 + n2\n",
    "\n",
    "print(f'A soma dos números {n1} e {n2} é {soma}')\n"
   ]
  },
  {
   "cell_type": "markdown",
   "metadata": {},
   "source": [
    "##### 4. Faça um Programa que peça as 4 notas bimestrais e mostre a média. "
   ]
  },
  {
   "cell_type": "code",
   "execution_count": 7,
   "metadata": {},
   "outputs": [
    {
     "name": "stdout",
     "output_type": "stream",
     "text": [
      "A média das notas 5, 5, 6 e 6 é 5.5\n"
     ]
    }
   ],
   "source": [
    "n1, n2, n3, n4 = map(int, input('Informe as quatro notas: ').split())\n",
    "\n",
    "media = (n1 + n2 + n3 + n4) / 4\n",
    "\n",
    "print(f'A média das notas {n1}, {n2}, {n3} e {n4} é {media}')\n"
   ]
  },
  {
   "cell_type": "markdown",
   "metadata": {},
   "source": [
    "##### 5. Faça um Programa que converta metros para centímetros. "
   ]
  },
  {
   "cell_type": "code",
   "execution_count": 8,
   "metadata": {},
   "outputs": [
    {
     "name": "stdout",
     "output_type": "stream",
     "text": [
      "1.25 metro(s) = 125.0 centímetro(s)\n"
     ]
    }
   ],
   "source": [
    "metro = float(input('Informe o valor em metros: '))\n",
    "\n",
    "centimetro = metro * 100\n",
    "\n",
    "print(f'{metro} metro(s) = {centimetro} centímetro(s)')\n"
   ]
  },
  {
   "cell_type": "markdown",
   "metadata": {},
   "source": [
    "##### 6. Faça um Programa que peça o raio de um círculo, calcule e mostre sua área. "
   ]
  },
  {
   "cell_type": "code",
   "execution_count": 1,
   "metadata": {},
   "outputs": [
    {
     "name": "stdout",
     "output_type": "stream",
     "text": [
      "A área do circulo é 78.5\n"
     ]
    }
   ],
   "source": [
    "raio = float(input('Informe o raio do círculo: '))\n",
    "area_circulo = 3.14 * (raio ** 2)\n",
    "print(f'A área do circulo é {area_circulo}')\n"
   ]
  },
  {
   "cell_type": "markdown",
   "metadata": {},
   "source": [
    "##### 7. Faça um Programa que calcule a área de um quadrado, em seguida mostre o dobro desta área para o usuário. "
   ]
  },
  {
   "cell_type": "code",
   "execution_count": 2,
   "metadata": {},
   "outputs": [
    {
     "name": "stdout",
     "output_type": "stream",
     "text": [
      "A área do quadrado é 9.0 e o dobro da área é 18.0\n"
     ]
    }
   ],
   "source": [
    "comprimento = float(input('Informe o comprimento do quadrado: '))\n",
    "area_quadrado = comprimento ** 2\n",
    "dobro_area = area_quadrado * 2\n",
    "print(f'A área do quadrado é {area_quadrado} e o dobro da área é {dobro_area}')\n"
   ]
  },
  {
   "cell_type": "markdown",
   "metadata": {},
   "source": [
    "##### 8. Faça um Programa que pergunte quanto você ganha por hora e o número de horas trabalhadas no mês. Calcule e mostre o total do seu salário no referido mês. "
   ]
  },
  {
   "cell_type": "code",
   "execution_count": 5,
   "metadata": {},
   "outputs": [
    {
     "name": "stdout",
     "output_type": "stream",
     "text": [
      "O salário para o referido mês é R$ 5000.00, para 200 horas trabalhadas à R$ 25.00 por hora.\n"
     ]
    }
   ],
   "source": [
    "ganho_hora = float(input('Informe o valor ganho por hora: '))\n",
    "horas_trabalhadas = int(input('Informe a quantidade de horas trabalhadas: '))\n",
    "\n",
    "salario = ganho_hora * horas_trabalhadas\n",
    "\n",
    "print(f'O salário para o referido mês é R$ {salario:.2f}, para {horas_trabalhadas} horas trabalhadas à R$ {ganho_hora:.2f} por hora.') \n"
   ]
  },
  {
   "cell_type": "markdown",
   "metadata": {},
   "source": [
    "##### 9. Faça um Programa que peça a temperatura em graus Fahrenheit, transforme e mostre a temperatura em graus Celsius.\n",
    "\n",
    "    C = 5 * ((F-32) / 9). "
   ]
  },
  {
   "cell_type": "code",
   "execution_count": 7,
   "metadata": {},
   "outputs": [
    {
     "name": "stdout",
     "output_type": "stream",
     "text": [
      "31.0°F = -0.56°C\n"
     ]
    }
   ],
   "source": [
    "temp_fahrenheit = float(input('Informe a temperatura em Fahrenheit: '))\n",
    "temp_celcius = 5 * ((temp_fahrenheit - 32) / 9)\n",
    "print(f'{temp_fahrenheit}°F = {temp_celcius:.2f}°C')\n"
   ]
  },
  {
   "cell_type": "markdown",
   "metadata": {},
   "source": [
    "##### 10. Faça um Programa que peça a temperatura em graus Celsius, transforme e mostre em graus Fahrenheit. "
   ]
  },
  {
   "cell_type": "code",
   "execution_count": 8,
   "metadata": {},
   "outputs": [
    {
     "name": "stdout",
     "output_type": "stream",
     "text": [
      "-0.56°C = 30.99°F\n"
     ]
    }
   ],
   "source": [
    "temp_celcius = float(input('Informe a temperatura em Celcius: '))\n",
    "temp_fahrenheit = (temp_celcius * 9 / 5) + 32\n",
    "print(f'{temp_celcius}°C = {temp_fahrenheit:.2f}°F')"
   ]
  },
  {
   "cell_type": "markdown",
   "metadata": {},
   "source": [
    "##### 11. Faça um Programa que peça 2 números inteiros e um número real. Calcule e mostre:\n",
    "\n",
    "1. o produto do dobro do primeiro com metade do segundo .\n",
    "2. a soma do triplo do primeiro com o terceiro.\n",
    "3. o terceiro elevado ao cubo. "
   ]
  },
  {
   "cell_type": "code",
   "execution_count": 1,
   "metadata": {},
   "outputs": [
    {
     "name": "stdout",
     "output_type": "stream",
     "text": [
      "O produto do dobro do primeiro com metade do segundo é 2.0\n",
      "A soma do triplo do primeiro com o terceiro é 6.5\n",
      "O terceiro elevado ao cubo é 42.875\n"
     ]
    }
   ],
   "source": [
    "n1 = int(input('Informe o primeiro número (inteiro): '))\n",
    "n2 = int(input('Informe o segundo número (inteiro): '))\n",
    "n3 = float(input('Informe o terceiro número (real): '))\n",
    "\n",
    "a = (2 * n1) * (n2 / 2)\n",
    "b = (3 * n1) + n3\n",
    "c = n3 ** 3\n",
    "\n",
    "print(f'O produto do dobro do primeiro com metade do segundo é {a}')\n",
    "print(f'A soma do triplo do primeiro com o terceiro é {b}')\n",
    "print(f'O terceiro elevado ao cubo é {c}')"
   ]
  },
  {
   "cell_type": "markdown",
   "metadata": {},
   "source": [
    "##### 12. Tendo como dados de entrada a altura de uma pessoa, construa um algoritmo que calcule seu peso ideal, usando a seguinte fórmula: (72.7*altura) - 58 "
   ]
  },
  {
   "cell_type": "code",
   "execution_count": 3,
   "metadata": {},
   "outputs": [
    {
     "name": "stdout",
     "output_type": "stream",
     "text": [
      "O peso ideal para a altura informada é 65.59 kg\n"
     ]
    }
   ],
   "source": [
    "altura = float(input('Informe sua altura em metros: '))\n",
    "\n",
    "peso_ideal = (72.7 * altura) - 58\n",
    "\n",
    "print(f'O peso ideal para a altura informada é {peso_ideal:.2f} kg')"
   ]
  },
  {
   "cell_type": "markdown",
   "metadata": {},
   "source": [
    "##### 13. Tendo como dado de entrada a altura (h) de uma pessoa, construa um algoritmo que calcule seu peso ideal, utilizando as seguintes fórmulas:\n",
    "\n",
    "1. Para homens: (72.7*h) - 58\n",
    "2. Para mulheres: (62.1*h) - 44.7"
   ]
  },
  {
   "cell_type": "code",
   "execution_count": 4,
   "metadata": {},
   "outputs": [
    {
     "name": "stdout",
     "output_type": "stream",
     "text": [
      "O peso ideal para a altura informada é 65.59 kg para homens e 60.87 kg para mulheres\n"
     ]
    }
   ],
   "source": [
    "h = float(input('Informe sua altura em metros: '))\n",
    "\n",
    "peso_ideal_homem = (72.7 * h) - 58\n",
    "peso_ideal_mulher = (62.1 * h) - 44.7\n",
    "\n",
    "print(f'O peso ideal para a altura informada é {peso_ideal_homem:.2f} kg para homens e {peso_ideal_mulher:.2f} kg para mulheres')"
   ]
  },
  {
   "cell_type": "markdown",
   "metadata": {},
   "source": [
    "##### 14. João Papo-de-Pescador, homem de bem, comprou um microcomputador para controlar o rendimento diário de seu trabalho. Toda vez que ele traz um peso de peixes maior que o estabelecido pelo regulamento de pesca do estado de São Paulo (50 quilos) deve pagar uma multa de R$ 4,00 por quilo excedente. João precisa que você faça um programa que leia a variável peso (peso de peixes) e calcule o excesso. Gravar na variável excesso a quantidade de quilos além do limite e na variável multa o valor da multa que João deverá pagar. Imprima os dados do programa com as mensagens adequadas. "
   ]
  },
  {
   "cell_type": "code",
   "execution_count": 10,
   "metadata": {},
   "outputs": [
    {
     "name": "stdout",
     "output_type": "stream",
     "text": [
      "O peso excedente é 18.00 kg e a multa a ser paga é R$ 72.00\n"
     ]
    }
   ],
   "source": [
    "PESO_ESTABELECIDO = 50\n",
    "\n",
    "peso = float(input('Informe o peso de peixes: '))\n",
    "\n",
    "if peso <= PESO_ESTABELECIDO:\n",
    "    print('Não há excesso de peso')\n",
    "else:\n",
    "    excesso = peso - PESO_ESTABELECIDO\n",
    "    multa = excesso * 4\n",
    "    print(f'O peso excedente é {excesso:.2f} kg e a multa a ser paga é R$ {multa:.2f}')\n",
    "    "
   ]
  },
  {
   "cell_type": "markdown",
   "metadata": {},
   "source": [
    "##### 15. Faça um Programa que pergunte quanto você ganha por hora e o número de horas trabalhadas no mês. Calcule e mostre o total do seu salário no referido mês, sabendo-se que são descontados 11% para o Imposto de Renda, 8% para o INSS e 5% para o sindicato, faça um programa que nos dê:\n",
    "\n",
    "1. salário bruto.\n",
    "2. quanto pagou ao INSS.\n",
    "3. quanto pagou ao sindicato.\n",
    "4. o salário líquido.\n",
    "5. calcule os descontos e o salário líquido, conforme a tabela abaixo:\n",
    "\n",
    "    \\+ Salário Bruto : R$\n",
    "\n",
    "    \\- IR (11%) : R$\n",
    "\n",
    "    \\- INSS (8%) : R$\n",
    "\n",
    "    \\- Sindicato ( 5%) : R$\n",
    "\n",
    "    = Salário Liquido : R$\n",
    "\n",
    "Obs.: Salário Bruto - Descontos = Salário Líquido. "
   ]
  },
  {
   "cell_type": "code",
   "execution_count": 13,
   "metadata": {},
   "outputs": [
    {
     "name": "stdout",
     "output_type": "stream",
     "text": [
      "\n",
      "    + Salário Bruto : R$ 2880.00\n",
      "    - IR (11%) : R$ 316.80\n",
      "    - INSS (8%) : R$ 230.40\n",
      "    - Sindicato (5%) : R$ 144.00\n",
      "    = Salário Liquido : R$ 2188.80\n"
     ]
    }
   ],
   "source": [
    "ganho_hora = float(input('Informe o valor ganho por hora: '))\n",
    "horas_trabalhadas = int(input('Informe a quantidade de horas trabalhadas: '))\n",
    "\n",
    "salario_bruto = ganho_hora * horas_trabalhadas\n",
    "ir = salario_bruto * 0.11\n",
    "inss = salario_bruto * 0.08\n",
    "sindicato = salario_bruto * 0.05\n",
    "salario_liquido = salario_bruto - ir - inss - sindicato\n",
    "\n",
    "print(f'''\n",
    "    + Salário Bruto : R$ {salario_bruto:.2f}\n",
    "    - IR (11%) : R$ {ir:.2f}\n",
    "    - INSS (8%) : R$ {inss:.2f}\n",
    "    - Sindicato (5%) : R$ {sindicato:.2f}\n",
    "    = Salário Liquido : R$ {salario_liquido:.2f}''')"
   ]
  },
  {
   "cell_type": "markdown",
   "metadata": {},
   "source": [
    "##### 16. Faça um programa para uma loja de tintas. O programa deverá pedir o tamanho em metros quadrados da área a ser pintada. Considere que a cobertura da tinta é de 1 litro para cada 3 metros quadrados e que a tinta é vendida em latas de 18 litros, que custam R$ 80,00. Informe ao usuário a quantidades de latas de tinta a serem compradas e o preço total. "
   ]
  },
  {
   "cell_type": "code",
   "execution_count": 18,
   "metadata": {},
   "outputs": [
    {
     "name": "stdout",
     "output_type": "stream",
     "text": [
      "Serão necessários 8.33 litros de tinta, o que equivale a 1 latas de tinta, totalizando R$ 80.00\n"
     ]
    }
   ],
   "source": [
    "from math import ceil, floor\n",
    "\n",
    "area = float(input('Informe a área a ser pintada em m²: '))\n",
    "\n",
    "litros = area / 3\n",
    "latas = ceil(litros / 18)\n",
    "preco = latas * 80\n",
    "\n",
    "print(f'Serão necessários {litros:.2f} litros de tinta, o que equivale a {latas:.0f} latas de tinta, totalizando R$ {preco:.2f}')"
   ]
  },
  {
   "cell_type": "markdown",
   "metadata": {},
   "source": [
    "##### 17. Faça um Programa para uma loja de tintas. O programa deverá pedir o tamanho em metros quadrados da área a ser pintada. Considere que a cobertura da tinta é de 1 litro para cada 6 metros quadrados e que a tinta é vendida em latas de 18 litros, que custam R$ 80,00 ou em galões de 3,6 litros, que custam R$ 25,00.\n",
    "\n",
    "- Informe ao usuário as quantidades de tinta a serem compradas e os respectivos preços em 3 situações:\n",
    "- comprar apenas latas de 18 litros;\n",
    "- comprar apenas galões de 3,6 litros;\n",
    "- misturar latas e galões, de forma que o desperdício de tinta seja menor. Acrescente 10% de folga e sempre arredonde os valores para cima, isto é, considere latas cheias. "
   ]
  },
  {
   "cell_type": "code",
   "execution_count": 22,
   "metadata": {},
   "outputs": [
    {
     "name": "stdout",
     "output_type": "stream",
     "text": [
      "\n",
      "    Apenas latas: 1 latas, custando R$ 80.00\n",
      "    Apenas galões: 2 galões, custando R$ 50.00\n",
      "    Misturando latas e galões: 0 latas e 2 galões, custando R$ 50.00\n",
      "\n"
     ]
    }
   ],
   "source": [
    "area = float(input('Informe a área a ser pintada em m²: '))\n",
    "\n",
    "# Constantes\n",
    "RENDIMENTO_POR_LITRO = 6\n",
    "CAPACIDADE_LATA = 18\n",
    "PRECO_LATA = 80\n",
    "CAPACIDADE_GALAO = 3.6\n",
    "PRECO_GALAO = 25\n",
    "\n",
    "# Cálculo da quantidade necessária de tinta com 10% de folga\n",
    "litros_necessarios = area / RENDIMENTO_POR_LITRO\n",
    "litros_necessarios_com_folga = litros_necessarios * 1.1\n",
    "\n",
    "# Opção 1: Apenas latas\n",
    "latas_necessarias = ceil(litros_necessarios_com_folga / CAPACIDADE_LATA)\n",
    "custo_apenas_latas = latas_necessarias * PRECO_LATA\n",
    "\n",
    "# Opção 2: Apenas galões\n",
    "galoes_necessarios = ceil(litros_necessarios_com_folga / CAPACIDADE_GALAO)\n",
    "custo_apenas_galoes = galoes_necessarios * PRECO_GALAO\n",
    "\n",
    "# Opção 3: Misturando latas e galões\n",
    "# Comprando o máximo possível de latas primeiro e completando com galões\n",
    "latas_mistas = floor(litros_necessarios_com_folga / CAPACIDADE_LATA)\n",
    "restante_em_litros = litros_necessarios_com_folga - (latas_mistas * CAPACIDADE_LATA)\n",
    "galoes_mistos = ceil(restante_em_litros / CAPACIDADE_GALAO)\n",
    "custo_misto = (latas_mistas * PRECO_LATA) + (galoes_mistos * PRECO_GALAO)\n",
    "\n",
    "print(f'''\n",
    "    Apenas latas: {latas_necessarias} latas, custando R$ {custo_apenas_latas:.2f}\n",
    "    Apenas galões: {galoes_necessarios} galões, custando R$ {custo_apenas_galoes:.2f}\n",
    "    Misturando latas e galões: {latas_mistas} latas e {galoes_mistos} galões, custando R$ {custo_misto:.2f}\n",
    "''')\n"
   ]
  },
  {
   "cell_type": "markdown",
   "metadata": {},
   "source": [
    "##### 18. Faça um programa que peça o tamanho de um arquivo para download (em MB) e a velocidade de um link de Internet (em Mbps), calcule e informe o tempo aproximado de download do arquivo usando este link (em minutos). "
   ]
  },
  {
   "cell_type": "code",
   "execution_count": 24,
   "metadata": {},
   "outputs": [
    {
     "name": "stdout",
     "output_type": "stream",
     "text": [
      "O tempo estimado para download é de 0.10 minutos\n"
     ]
    }
   ],
   "source": [
    "tamaho_arquivo = float(input('Informe o tamanho do arquivo em MB: '))\n",
    "velocidade_internet = float(input('Informe a velocidade da internet em Mbps: '))\n",
    "\n",
    "tempo_download = (tamaho_arquivo * 8) / velocidade_internet\n",
    "tempo_download_minutos = tempo_download / 60\n",
    "\n",
    "print(f'O tempo estimado para download é de {tempo_download_minutos:.2f} minutos')"
   ]
  }
 ],
 "metadata": {
  "kernelspec": {
   "display_name": ".venv",
   "language": "python",
   "name": "python3"
  },
  "language_info": {
   "codemirror_mode": {
    "name": "ipython",
    "version": 3
   },
   "file_extension": ".py",
   "mimetype": "text/x-python",
   "name": "python",
   "nbconvert_exporter": "python",
   "pygments_lexer": "ipython3",
   "version": "3.12.0"
  }
 },
 "nbformat": 4,
 "nbformat_minor": 2
}
