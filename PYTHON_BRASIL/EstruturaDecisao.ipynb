{
 "cells": [
  {
   "cell_type": "markdown",
   "metadata": {},
   "source": [
    "##### Faça um Programa que peça dois números e imprima o maior deles. "
   ]
  },
  {
   "cell_type": "code",
   "execution_count": 1,
   "metadata": {},
   "outputs": [
    {
     "name": "stdout",
     "output_type": "stream",
     "text": [
      "O maior número é 2\n"
     ]
    }
   ],
   "source": [
    "n1 = int(input('Digite um número: '))\n",
    "n2 = int(input('Digite outro número: '))\n",
    "\n",
    "if n1 > n2:\n",
    "    print(f'O maior número é {n1}')\n",
    "else:\n",
    "    print(f'O maior número é {n2}')\n"
   ]
  },
  {
   "cell_type": "markdown",
   "metadata": {},
   "source": [
    "##### Faça um Programa que peça um valor e mostre na tela se o valor é positivo ou negativo. "
   ]
  },
  {
   "cell_type": "code",
   "execution_count": 2,
   "metadata": {},
   "outputs": [
    {
     "name": "stdout",
     "output_type": "stream",
     "text": [
      "O valor -6 é negativo\n"
     ]
    }
   ],
   "source": [
    "valor = int(input('Digite um número: '))\n",
    "\n",
    "if valor >= 0:\n",
    "    print(f'O valor {valor} é positivo')\n",
    "else:\n",
    "    print(f'O valor {valor} é negativo')\n",
    "    "
   ]
  },
  {
   "cell_type": "markdown",
   "metadata": {},
   "source": [
    "##### Faça um Programa que verifique se uma letra digitada é \"F\" ou \"M\". Conforme a letra escrever: F - Feminino, M - Masculino, Sexo Inválido. "
   ]
  },
  {
   "cell_type": "code",
   "execution_count": 4,
   "metadata": {},
   "outputs": [
    {
     "name": "stdout",
     "output_type": "stream",
     "text": [
      "Masculino\n"
     ]
    }
   ],
   "source": [
    "sexo = input('Digite o sexo (M/F): ').upper()\n",
    "\n",
    "if sexo == 'M':\n",
    "    print('Masculino')\n",
    "elif sexo == 'F':\n",
    "    print('Feminino')\n",
    "else:\n",
    "    print('Sexo Inválido')"
   ]
  },
  {
   "cell_type": "markdown",
   "metadata": {},
   "source": [
    "##### Faça um Programa que verifique se uma letra digitada é vogal ou consoante. "
   ]
  },
  {
   "cell_type": "code",
   "execution_count": 7,
   "metadata": {},
   "outputs": [
    {
     "name": "stdout",
     "output_type": "stream",
     "text": [
      "A letra 'A' é uma vogal.\n"
     ]
    }
   ],
   "source": [
    "char = input('Digite uma letra: ')\n",
    "\n",
    "if char.lower() in 'aeiou':\n",
    "    print(f'A letra \\'{char}\\' é uma vogal.')\n",
    "else:\n",
    "    print(f'A letra \\'{char}\\' é uma consoante.')\n"
   ]
  },
  {
   "cell_type": "markdown",
   "metadata": {},
   "source": [
    "##### Faça um programa para a leitura de duas notas parciais de um aluno. O programa deve calcular a média alcançada por aluno e apresentar:\n",
    "\n",
    "- A mensagem \"Aprovado\", se a média alcançada for maior ou igual a sete;\n",
    "- A mensagem \"Reprovado\", se a média for menor do que sete;\n",
    "- A mensagem \"Aprovado com Distinção\", se a média for igual a dez. "
   ]
  },
  {
   "cell_type": "code",
   "execution_count": 10,
   "metadata": {},
   "outputs": [
    {
     "name": "stdout",
     "output_type": "stream",
     "text": [
      "Média = 10.0, Aprovado com Distinção\n"
     ]
    }
   ],
   "source": [
    "n1 = float(input('Informe a primeira nota: '))\n",
    "n2 = float(input('Informe a segunda nota: '))\n",
    "\n",
    "NOTA_APROVACAO = 7\n",
    "media = (n1 + n2) / 2\n",
    "\n",
    "\n",
    "\n",
    "if media == 10:\n",
    "    print(f'Média = {media}, Aprovado com Distinção')\n",
    "elif media >= NOTA_APROVACAO:\n",
    "    print(f'Média = {media}, Aprovado')\n",
    "else:\n",
    "    print(f'Média = {media}, Reprovado')\n"
   ]
  }
 ],
 "metadata": {
  "kernelspec": {
   "display_name": ".venv",
   "language": "python",
   "name": "python3"
  },
  "language_info": {
   "codemirror_mode": {
    "name": "ipython",
    "version": 3
   },
   "file_extension": ".py",
   "mimetype": "text/x-python",
   "name": "python",
   "nbconvert_exporter": "python",
   "pygments_lexer": "ipython3",
   "version": "3.12.0"
  }
 },
 "nbformat": 4,
 "nbformat_minor": 2
}
